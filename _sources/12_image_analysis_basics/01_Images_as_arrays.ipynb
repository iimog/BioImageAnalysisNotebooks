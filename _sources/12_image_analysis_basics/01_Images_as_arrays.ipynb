{
 "cells": [
  {
   "cell_type": "markdown",
   "metadata": {},
   "source": [
    "# Images are lists of numbers: Numpy arrays\n",
    "\n",
    "[Numpy](https://numpy.org) is a library for processing multi-dimensional lists of numbers, of which microscopy images (stacks, multi-channel, time-lapses etc.) are a prominent example. We give here a very short introduction to this library used *indrectly* most of the time in this course via libraries like scikit-image. For more information, you can refer to the following resources:\n",
    "\n",
    "* [Image manipulation and processing using Numpy and Scipy by Emmanuelle Gouillart and Gaël Varoquaux](https://scipy-lectures.org/advanced/image_processing/index.html#basic-image)\n",
    "* [Tutorial on image segmentation with scikit-image](https://scikit-image.org/docs/dev/user_guide/tutorial_segmentation.html)"
   ]
  },
  {
   "cell_type": "markdown",
   "metadata": {},
   "source": [
    "## Numpy arrays\n",
    "\n",
    "An image is just a two dimensional list of pixels values, in other words a matrix, with a certain number of rows and columns. Therefore we can define it as a list of lists, each list being a row of pixels:"
   ]
  },
  {
   "cell_type": "code",
   "execution_count": 15,
   "metadata": {},
   "outputs": [
    {
     "data": {
      "text/plain": [
       "[[1, 0, 2, 1, 0, 0, 0],\n",
       " [0, 3, 1, 0, 1, 0, 1],\n",
       " [0, 5, 5, 1, 0, 1, 0],\n",
       " [0, 6, 6, 5, 1, 0, 2],\n",
       " [0, 0, 5, 6, 3, 0, 1],\n",
       " [0, 1, 2, 1, 0, 0, 1],\n",
       " [1, 0, 1, 0, 0, 1, 0]]"
      ]
     },
     "execution_count": 15,
     "metadata": {},
     "output_type": "execute_result"
    }
   ],
   "source": [
    "raw_image_array = [\n",
    "    [1, 0, 2, 1, 0, 0, 0],\n",
    "    [0, 3, 1, 0, 1, 0, 1],\n",
    "    [0, 5, 5, 1, 0, 1, 0],\n",
    "    [0, 6, 6, 5, 1, 0, 2],\n",
    "    [0, 0, 5, 6, 3, 0, 1],\n",
    "    [0, 1, 2, 1, 0, 0, 1],\n",
    "    [1, 0, 1, 0, 0, 1, 0]\n",
    "]\n",
    "raw_image_array"
   ]
  },
  {
   "cell_type": "markdown",
   "metadata": {},
   "source": [
    "Our desire is to be able to treat this image variable ```raw_image_array``` as one \"entity\". For example, just like we can define ```a = 3``` and then compute ```b = a - 3```, we would like to be able to compute ```raw_background = raw_image_array - 2``` to remove a background value of ```2``` from our image. If we try this on our current variable:"
   ]
  },
  {
   "cell_type": "code",
   "execution_count": 16,
   "metadata": {},
   "outputs": [
    {
     "ename": "TypeError",
     "evalue": "unsupported operand type(s) for -: 'list' and 'int'",
     "output_type": "error",
     "traceback": [
      "\u001b[0;31m---------------------------------------------------------------------------\u001b[0m",
      "\u001b[0;31mTypeError\u001b[0m                                 Traceback (most recent call last)",
      "Input \u001b[0;32mIn [16]\u001b[0m, in \u001b[0;36m<cell line: 1>\u001b[0;34m()\u001b[0m\n\u001b[0;32m----> 1\u001b[0m \u001b[43mraw_image_array\u001b[49m\u001b[43m \u001b[49m\u001b[38;5;241;43m-\u001b[39;49m\u001b[43m \u001b[49m\u001b[38;5;241;43m2\u001b[39;49m\n",
      "\u001b[0;31mTypeError\u001b[0m: unsupported operand type(s) for -: 'list' and 'int'"
     ]
    }
   ],
   "source": [
    "raw_image_array - 2"
   ]
  },
  {
   "cell_type": "markdown",
   "metadata": {},
   "source": [
    "we get an error because this type of calculation **is not defined for simple Python lists**. This is where Numpy enters the game. We can simply transform our list of lists into a so-called Numpy array using the ```np.asarray``` function:"
   ]
  },
  {
   "cell_type": "code",
   "execution_count": 17,
   "metadata": {},
   "outputs": [],
   "source": [
    "import numpy as np\n",
    "\n",
    "image = np.asarray(raw_image_array)"
   ]
  },
  {
   "cell_type": "code",
   "execution_count": 18,
   "metadata": {},
   "outputs": [
    {
     "data": {
      "text/plain": [
       "array([[1, 0, 2, 1, 0, 0, 0],\n",
       "       [0, 3, 1, 0, 1, 0, 1],\n",
       "       [0, 5, 5, 1, 0, 1, 0],\n",
       "       [0, 6, 6, 5, 1, 0, 2],\n",
       "       [0, 0, 5, 6, 3, 0, 1],\n",
       "       [0, 1, 2, 1, 0, 0, 1],\n",
       "       [1, 0, 1, 0, 0, 1, 0]])"
      ]
     },
     "execution_count": 18,
     "metadata": {},
     "output_type": "execute_result"
    }
   ],
   "source": [
    "image"
   ]
  },
  {
   "cell_type": "markdown",
   "metadata": {},
   "source": [
    "This output is almost the same as above with the difference that now it is indicated that we are dealing with a Numpy ```array```. Such Numpy arrays can now be treated as a one entity and we can perform the computation that we coudn't before:"
   ]
  },
  {
   "cell_type": "code",
   "execution_count": 19,
   "metadata": {},
   "outputs": [
    {
     "data": {
      "text/plain": [
       "array([[-1, -2,  0, -1, -2, -2, -2],\n",
       "       [-2,  1, -1, -2, -1, -2, -1],\n",
       "       [-2,  3,  3, -1, -2, -1, -2],\n",
       "       [-2,  4,  4,  3, -1, -2,  0],\n",
       "       [-2, -2,  3,  4,  1, -2, -1],\n",
       "       [-2, -1,  0, -1, -2, -2, -1],\n",
       "       [-1, -2, -1, -2, -2, -1, -2]])"
      ]
     },
     "execution_count": 19,
     "metadata": {},
     "output_type": "execute_result"
    }
   ],
   "source": [
    "image - 2"
   ]
  },
  {
   "cell_type": "markdown",
   "metadata": {},
   "source": [
    "Note that these computations are very efficient because they are *vectorized*, i.e. they can in principle be performed in parallel."
   ]
  },
  {
   "cell_type": "markdown",
   "metadata": {},
   "source": [
    "## Two important properties\n",
    "\n",
    "Arrays like ```image``` have different properties. Two of the most important ones are:\n",
    "- the ```shape``` of the array, i.e. the number of rows, columns (and channels, planes etc. for multi-dimensional images)\n",
    "- the ```dtype``` of the array, i.e. the type of its pixels such as 8bit, float etc. (as in Fiji, Image->Type)"
   ]
  },
  {
   "cell_type": "code",
   "execution_count": 20,
   "metadata": {},
   "outputs": [
    {
     "data": {
      "text/plain": [
       "(7, 7)"
      ]
     },
     "execution_count": 20,
     "metadata": {},
     "output_type": "execute_result"
    }
   ],
   "source": [
    "image.shape"
   ]
  },
  {
   "cell_type": "code",
   "execution_count": 21,
   "metadata": {},
   "outputs": [
    {
     "data": {
      "text/plain": [
       "dtype('int64')"
      ]
     },
     "execution_count": 21,
     "metadata": {},
     "output_type": "execute_result"
    }
   ],
   "source": [
    "image.dtype"
   ]
  },
  {
   "cell_type": "markdown",
   "metadata": {},
   "source": [
    "## Other ways of creating arrays\n",
    "\n",
    "Usually we do not convert lists of lists into Numpy arrays to create image arrays. We rather obtain images as arrays simply by importing them (see next chapter). Alternatively we can also create different types of new images by using Numpy functions like [```np.zeros```](https://numpy.org/doc/stable/reference/generated/numpy.zeros.html) and [```np.random.random```](https://numpy.org/doc/stable/reference/random/generated/numpy.random.Generator.random.html#numpy.random.Generator.random), which is sometimes good for playing with algorithms. For this we just have to specify the shape of the image in terms of number of rows and columns. ```np.zeros``` gives an image filled with zeros:"
   ]
  },
  {
   "cell_type": "code",
   "execution_count": 12,
   "metadata": {},
   "outputs": [
    {
     "data": {
      "text/plain": [
       "array([[0., 0., 0., 0., 0.],\n",
       "       [0., 0., 0., 0., 0.],\n",
       "       [0., 0., 0., 0., 0.]])"
      ]
     },
     "execution_count": 12,
     "metadata": {},
     "output_type": "execute_result"
    }
   ],
   "source": [
    "image_size = (3, 5)\n",
    "\n",
    "image_zeros = np.zeros(image_size)\n",
    "image_zeros"
   ]
  },
  {
   "cell_type": "markdown",
   "metadata": {},
   "source": [
    "and ```np.random.random``` gives an image with random values (in the 0-1 range):"
   ]
  },
  {
   "cell_type": "code",
   "execution_count": 14,
   "metadata": {},
   "outputs": [
    {
     "data": {
      "text/plain": [
       "array([[0.15656684, 0.64170029, 0.35489949, 0.95730439, 0.90824715],\n",
       "       [0.46300073, 0.38580745, 0.25032853, 0.19467343, 0.89511366],\n",
       "       [0.36505495, 0.38060993, 0.02173237, 0.52371981, 0.35979032]])"
      ]
     },
     "execution_count": 14,
     "metadata": {},
     "output_type": "execute_result"
    }
   ],
   "source": [
    "image_random = np.random.random((3, 5))\n",
    "image_random"
   ]
  },
  {
   "cell_type": "markdown",
   "metadata": {},
   "source": [
    "## Next steps\n",
    "\n",
    "Now that we know in what format images come in the Python world, we can take the nexts steps: how to open actual images and not just random arrays, and how to visualize them and perform computations on them."
   ]
  }
 ],
 "metadata": {
  "kernelspec": {
   "display_name": "Python 3 (ipykernel)",
   "language": "python",
   "name": "python3"
  },
  "language_info": {
   "codemirror_mode": {
    "name": "ipython",
    "version": 3
   },
   "file_extension": ".py",
   "mimetype": "text/x-python",
   "name": "python",
   "nbconvert_exporter": "python",
   "pygments_lexer": "ipython3",
   "version": "3.8.13"
  }
 },
 "nbformat": 4,
 "nbformat_minor": 4
}

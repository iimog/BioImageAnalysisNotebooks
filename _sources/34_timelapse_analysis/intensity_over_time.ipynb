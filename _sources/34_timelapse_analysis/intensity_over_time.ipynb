{
 "cells": [
  {
   "cell_type": "code",
   "execution_count": 1,
   "id": "c635d7d4-0ffb-4a93-adb0-f7f18b572987",
   "metadata": {},
   "outputs": [],
   "source": [
    "from skimage.io import imread\n",
    "import pyclesperanto_prototype as cle\n",
    "from skimage.measure import regionprops_table\n",
    "import numpy as np\n",
    "import pandas as pd\n",
    "from scipy.ndimage import zoom"
   ]
  },
  {
   "cell_type": "code",
   "execution_count": 2,
   "id": "29dfba52-f5a3-4789-bbf3-9ca714941848",
   "metadata": {},
   "outputs": [
    {
     "data": {
      "text/plain": [
       "(10, 1200, 1200)"
      ]
     },
     "execution_count": 2,
     "metadata": {},
     "output_type": "execute_result"
    }
   ],
   "source": [
    "image_stack = imread(\"../../data/CalibZAPWfixed_000154_max.tif\")[::10,:200,:200]\n",
    "image_stack = np.asarray(cle.scale(image_stack, factor_z=1, factor_x=6, factor_y=6, auto_size=True))\n",
    "image_stack.shape"
   ]
  },
  {
   "cell_type": "code",
   "execution_count": 3,
   "id": "7aeec7b5-2a1e-4709-bdcd-57b655dedd50",
   "metadata": {},
   "outputs": [],
   "source": [
    "def segment_single_image(image, bg_radius=50, spot_sigma=10, outline_sigma=3):\n",
    "    background_subtracted = cle.top_hat_box(image, radius_x=bg_radius, radius_y=bg_radius)\n",
    "    labels = cle.voronoi_otsu_labeling(background_subtracted, spot_sigma=spot_sigma, outline_sigma=outline_sigma)\n",
    "    return np.asarray(labels)"
   ]
  },
  {
   "cell_type": "code",
   "execution_count": 4,
   "id": "443332db-41a0-49f3-a629-ec1709c239a8",
   "metadata": {},
   "outputs": [
    {
     "data": {
      "text/plain": [
       "array([[  0,   0,   0, ...,   0,   0,   0],\n",
       "       [  0,   0,   0, ...,   0,   0,   0],\n",
       "       [  0,   0,   0, ...,   0,   0,   0],\n",
       "       ...,\n",
       "       [  0,   0,   0, ..., 177, 177, 177],\n",
       "       [  0,   0,   0, ..., 177, 177, 177],\n",
       "       [  0,   0,   0, ..., 177, 177, 177]], dtype=uint32)"
      ]
     },
     "execution_count": 4,
     "metadata": {},
     "output_type": "execute_result"
    }
   ],
   "source": [
    "segment_single_image(image_stack[5])"
   ]
  },
  {
   "cell_type": "code",
   "execution_count": 10,
   "id": "5ba6aa6a-d8bd-4468-b239-ffd290e9f727",
   "metadata": {},
   "outputs": [
    {
     "data": {
      "text/plain": [
       "(10, 1200, 1200)"
      ]
     },
     "execution_count": 10,
     "metadata": {},
     "output_type": "execute_result"
    }
   ],
   "source": [
    "segmented_slices = [segment_single_image(image) for image in image_stack]\n",
    "segmented_stack = np.asarray(segmented_slices)\n",
    "segmented_stack.shape"
   ]
  },
  {
   "cell_type": "code",
   "execution_count": 13,
   "id": "d6d624b8-26ef-4d48-a3e9-1fa920c479ca",
   "metadata": {},
   "outputs": [
    {
     "data": {
      "image/png": "[encoded data removed]",
      "text/plain": [
       "<Figure size 640x480 with 1 Axes>"
      ]
     },
     "metadata": {},
     "output_type": "display_data"
    }
   ],
   "source": [
    "cle.imshow(segmented_slices[5], labels=True)"
   ]
  },
  {
   "cell_type": "code",
   "execution_count": null,
   "id": "73f2a4e8-9c5b-448c-a9a4-554007bc8b0e",
   "metadata": {},
   "outputs": [],
   "source": []
  },
  {
   "cell_type": "code",
   "execution_count": 7,
   "id": "c0a0be3b-69a4-4b0a-a8e4-3a253ad7be68",
   "metadata": {},
   "outputs": [
    {
     "data": {
      "application/vnd.jupyter.widget-view+json": {
       "model_id": "e1066e7a30914eeda84cde1dad1b0e9e",
       "version_major": 2,
       "version_minor": 0
      },
      "text/plain": [
       "VBox(children=(HBox(children=(VBox(children=(ImageWidget(height=360, width=360),)),)), IntSlider(value=5, cont…"
      ]
     },
     "execution_count": 7,
     "metadata": {},
     "output_type": "execute_result"
    }
   ],
   "source": [
    "import stackview\n",
    "stackview.curtain(image_stack, segmented_stack, zoom_factor=0.3)"
   ]
  },
  {
   "cell_type": "code",
   "execution_count": null,
   "id": "164b6876-c47e-4345-9417-1a9211616b5a",
   "metadata": {},
   "outputs": [],
   "source": []
  },
  {
   "cell_type": "code",
   "execution_count": 21,
   "id": "053104ad-0c88-4b7e-9221-4418653a5e25",
   "metadata": {},
   "outputs": [],
   "source": [
    "def analyze_single_timepoint(image, labels, frame):\n",
    "    df = pd.DataFrame(regionprops_table(labels[frame], intensity_image=image[frame], properties=['mean_intensity']))\n",
    "    df['frame'] = frame\n",
    "    return df\n",
    "\n",
    "df = analyze_single_timepoint(image_stack, segmented_stack, 5)"
   ]
  },
  {
   "cell_type": "code",
   "execution_count": 22,
   "id": "e3a3ab60-c982-4aa1-ba45-96132f617251",
   "metadata": {},
   "outputs": [
    {
     "data": {
      "text/html": [
       "<div>\n",
       "<style scoped>\n",
       "    .dataframe tbody tr th:only-of-type {\n",
       "        vertical-align: middle;\n",
       "    }\n",
       "\n",
       "    .dataframe tbody tr th {\n",
       "        vertical-align: top;\n",
       "    }\n",
       "\n",
       "    .dataframe thead th {\n",
       "        text-align: right;\n",
       "    }\n",
       "</style>\n",
       "<table border=\"1\" class=\"dataframe\">\n",
       "  <thead>\n",
       "    <tr style=\"text-align: right;\">\n",
       "      <th></th>\n",
       "      <th>mean_intensity</th>\n",
       "      <th>frame</th>\n",
       "    </tr>\n",
       "  </thead>\n",
       "  <tbody>\n",
       "    <tr>\n",
       "      <th>0</th>\n",
       "      <td>223.347107</td>\n",
       "      <td>0</td>\n",
       "    </tr>\n",
       "    <tr>\n",
       "      <th>1</th>\n",
       "      <td>93.042557</td>\n",
       "      <td>0</td>\n",
       "    </tr>\n",
       "    <tr>\n",
       "      <th>2</th>\n",
       "      <td>112.046814</td>\n",
       "      <td>0</td>\n",
       "    </tr>\n",
       "    <tr>\n",
       "      <th>3</th>\n",
       "      <td>192.766434</td>\n",
       "      <td>0</td>\n",
       "    </tr>\n",
       "    <tr>\n",
       "      <th>4</th>\n",
       "      <td>162.704330</td>\n",
       "      <td>0</td>\n",
       "    </tr>\n",
       "    <tr>\n",
       "      <th>...</th>\n",
       "      <td>...</td>\n",
       "      <td>...</td>\n",
       "    </tr>\n",
       "    <tr>\n",
       "      <th>335</th>\n",
       "      <td>135.748642</td>\n",
       "      <td>9</td>\n",
       "    </tr>\n",
       "    <tr>\n",
       "      <th>336</th>\n",
       "      <td>116.306427</td>\n",
       "      <td>9</td>\n",
       "    </tr>\n",
       "    <tr>\n",
       "      <th>337</th>\n",
       "      <td>121.075317</td>\n",
       "      <td>9</td>\n",
       "    </tr>\n",
       "    <tr>\n",
       "      <th>338</th>\n",
       "      <td>98.173592</td>\n",
       "      <td>9</td>\n",
       "    </tr>\n",
       "    <tr>\n",
       "      <th>339</th>\n",
       "      <td>82.390472</td>\n",
       "      <td>9</td>\n",
       "    </tr>\n",
       "  </tbody>\n",
       "</table>\n",
       "<p>1702 rows × 2 columns</p>\n",
       "</div>"
      ],
      "text/plain": [
       "     mean_intensity  frame\n",
       "0        223.347107      0\n",
       "1         93.042557      0\n",
       "2        112.046814      0\n",
       "3        192.766434      0\n",
       "4        162.704330      0\n",
       "..              ...    ...\n",
       "335      135.748642      9\n",
       "336      116.306427      9\n",
       "337      121.075317      9\n",
       "338       98.173592      9\n",
       "339       82.390472      9\n",
       "\n",
       "[1702 rows x 2 columns]"
      ]
     },
     "execution_count": 22,
     "metadata": {},
     "output_type": "execute_result"
    }
   ],
   "source": [
    "num_frames = image_stack.shape[0]\n",
    "all_frames_df = pd.concat([analyze_single_timepoint(image_stack, segmented_stack, t) for t in range(num_frames)])\n",
    "\n",
    "all_frames_df"
   ]
  },
  {
   "cell_type": "code",
   "execution_count": 23,
   "id": "50109e07-d00e-4ff0-94ac-bac2ff6372c2",
   "metadata": {},
   "outputs": [],
   "source": [
    "import timeit"
   ]
  },
  {
   "cell_type": "code",
   "execution_count": 24,
   "id": "60c0aa46-63fb-412e-913d-d9378e45f21a",
   "metadata": {},
   "outputs": [
    {
     "name": "stdout",
     "output_type": "stream",
     "text": [
      "87 ms ± 649 µs per loop (mean ± std. dev. of 7 runs, 10 loops each)\n"
     ]
    }
   ],
   "source": [
    "%%timeit\n",
    "pd.concat([analyze_single_timepoint(image_stack, segmented_stack, t) for t in range(num_frames)])"
   ]
  },
  {
   "cell_type": "code",
   "execution_count": 36,
   "id": "4edee1bd-48f2-480f-ad4f-f4ccf36b7a22",
   "metadata": {},
   "outputs": [],
   "source": [
    "def get_intensity_for_timepoint(intensity_image, label_layer):\n",
    "    stats = regionprops_table(label_layer, intensity_image=intensity_image, properties=['mean_intensity'])\n",
    "    return stats['mean_intensity']\n",
    "\n",
    "def get_intensity(intensity_image_stack, labels_layer_stack):\n",
    "    result = []        \n",
    "    for intensity_image, label_layer in zip(intensity_image_stack, labels_layer_stack):\n",
    "        result.append(get_intensity_for_timepoint(intensity_image, label_layer))\n",
    "    return result\n"
   ]
  },
  {
   "cell_type": "code",
   "execution_count": 38,
   "id": "c395c182-cb90-45b3-a3df-6fa49aeed85f",
   "metadata": {},
   "outputs": [
    {
     "data": {
      "text/plain": [
       "(10, 1, 1200, 1200)"
      ]
     },
     "execution_count": 38,
     "metadata": {},
     "output_type": "execute_result"
    }
   ],
   "source": [
    ".shape"
   ]
  },
  {
   "cell_type": "code",
   "execution_count": 39,
   "id": "faeebf30-5ad4-4814-82f1-21060874266d",
   "metadata": {},
   "outputs": [],
   "source": []
  },
  {
   "cell_type": "code",
   "execution_count": 42,
   "id": "26849d6f-1c90-46fa-b652-7c2fc8d13248",
   "metadata": {},
   "outputs": [
    {
     "name": "stdout",
     "output_type": "stream",
     "text": [
      "analyzing frame 0\n",
      "analyzing frame 1\n",
      "analyzing frame 2\n",
      "analyzing frame 3\n",
      "analyzing frame 4\n",
      "analyzing frame 5\n",
      "analyzing frame 6\n",
      "analyzing frame 7\n",
      "analyzing frame 8\n",
      "analyzing frame 9\n"
     ]
    },
    {
     "data": {
      "text/html": [
       "<div>\n",
       "<style scoped>\n",
       "    .dataframe tbody tr th:only-of-type {\n",
       "        vertical-align: middle;\n",
       "    }\n",
       "\n",
       "    .dataframe tbody tr th {\n",
       "        vertical-align: top;\n",
       "    }\n",
       "\n",
       "    .dataframe thead th {\n",
       "        text-align: right;\n",
       "    }\n",
       "</style>\n",
       "<table border=\"1\" class=\"dataframe\">\n",
       "  <thead>\n",
       "    <tr style=\"text-align: right;\">\n",
       "      <th></th>\n",
       "      <th>label</th>\n",
       "      <th>max_intensity</th>\n",
       "      <th>mean_intensity</th>\n",
       "      <th>min_intensity</th>\n",
       "      <th>standard_deviation_intensity</th>\n",
       "      <th>frame</th>\n",
       "    </tr>\n",
       "  </thead>\n",
       "  <tbody>\n",
       "    <tr>\n",
       "      <th>0</th>\n",
       "      <td>1</td>\n",
       "      <td>255.0</td>\n",
       "      <td>223.347107</td>\n",
       "      <td>91.0</td>\n",
       "      <td>40.516113</td>\n",
       "      <td>0</td>\n",
       "    </tr>\n",
       "    <tr>\n",
       "      <th>1</th>\n",
       "      <td>2</td>\n",
       "      <td>97.0</td>\n",
       "      <td>93.042557</td>\n",
       "      <td>70.0</td>\n",
       "      <td>7.657447</td>\n",
       "      <td>0</td>\n",
       "    </tr>\n",
       "    <tr>\n",
       "      <th>2</th>\n",
       "      <td>3</td>\n",
       "      <td>154.0</td>\n",
       "      <td>112.046814</td>\n",
       "      <td>68.0</td>\n",
       "      <td>16.508696</td>\n",
       "      <td>0</td>\n",
       "    </tr>\n",
       "    <tr>\n",
       "      <th>3</th>\n",
       "      <td>4</td>\n",
       "      <td>245.0</td>\n",
       "      <td>192.766434</td>\n",
       "      <td>85.0</td>\n",
       "      <td>39.013126</td>\n",
       "      <td>0</td>\n",
       "    </tr>\n",
       "    <tr>\n",
       "      <th>4</th>\n",
       "      <td>5</td>\n",
       "      <td>255.0</td>\n",
       "      <td>162.704330</td>\n",
       "      <td>67.0</td>\n",
       "      <td>42.194302</td>\n",
       "      <td>0</td>\n",
       "    </tr>\n",
       "    <tr>\n",
       "      <th>...</th>\n",
       "      <td>...</td>\n",
       "      <td>...</td>\n",
       "      <td>...</td>\n",
       "      <td>...</td>\n",
       "      <td>...</td>\n",
       "      <td>...</td>\n",
       "    </tr>\n",
       "    <tr>\n",
       "      <th>1697</th>\n",
       "      <td>336</td>\n",
       "      <td>189.0</td>\n",
       "      <td>135.748642</td>\n",
       "      <td>61.0</td>\n",
       "      <td>30.539036</td>\n",
       "      <td>9</td>\n",
       "    </tr>\n",
       "    <tr>\n",
       "      <th>1698</th>\n",
       "      <td>337</td>\n",
       "      <td>173.0</td>\n",
       "      <td>116.306427</td>\n",
       "      <td>38.0</td>\n",
       "      <td>35.460144</td>\n",
       "      <td>9</td>\n",
       "    </tr>\n",
       "    <tr>\n",
       "      <th>1699</th>\n",
       "      <td>338</td>\n",
       "      <td>183.0</td>\n",
       "      <td>121.075317</td>\n",
       "      <td>39.0</td>\n",
       "      <td>38.362331</td>\n",
       "      <td>9</td>\n",
       "    </tr>\n",
       "    <tr>\n",
       "      <th>1700</th>\n",
       "      <td>339</td>\n",
       "      <td>133.0</td>\n",
       "      <td>98.173592</td>\n",
       "      <td>55.0</td>\n",
       "      <td>22.237257</td>\n",
       "      <td>9</td>\n",
       "    </tr>\n",
       "    <tr>\n",
       "      <th>1701</th>\n",
       "      <td>340</td>\n",
       "      <td>110.0</td>\n",
       "      <td>82.390472</td>\n",
       "      <td>48.0</td>\n",
       "      <td>16.561571</td>\n",
       "      <td>9</td>\n",
       "    </tr>\n",
       "  </tbody>\n",
       "</table>\n",
       "<p>1702 rows × 6 columns</p>\n",
       "</div>"
      ],
      "text/plain": [
       "      label  max_intensity  mean_intensity  min_intensity  \\\n",
       "0         1          255.0      223.347107           91.0   \n",
       "1         2           97.0       93.042557           70.0   \n",
       "2         3          154.0      112.046814           68.0   \n",
       "3         4          245.0      192.766434           85.0   \n",
       "4         5          255.0      162.704330           67.0   \n",
       "...     ...            ...             ...            ...   \n",
       "1697    336          189.0      135.748642           61.0   \n",
       "1698    337          173.0      116.306427           38.0   \n",
       "1699    338          183.0      121.075317           39.0   \n",
       "1700    339          133.0       98.173592           55.0   \n",
       "1701    340          110.0       82.390472           48.0   \n",
       "\n",
       "      standard_deviation_intensity  frame  \n",
       "0                        40.516113      0  \n",
       "1                         7.657447      0  \n",
       "2                        16.508696      0  \n",
       "3                        39.013126      0  \n",
       "4                        42.194302      0  \n",
       "...                            ...    ...  \n",
       "1697                     30.539036      9  \n",
       "1698                     35.460144      9  \n",
       "1699                     38.362331      9  \n",
       "1700                     22.237257      9  \n",
       "1701                     16.561571      9  \n",
       "\n",
       "[1702 rows x 6 columns]"
      ]
     },
     "execution_count": 42,
     "metadata": {},
     "output_type": "execute_result"
    }
   ],
   "source": [
    "\n",
    "from napari_skimage_regionprops import regionprops_table_all_frames\n",
    "stats = regionprops_table_all_frames(image_stack[:,np.newaxis,:,:], \n",
    "                             segmented_stack[:,np.newaxis,:,:],\n",
    "                             size=False,\n",
    "                             intensity=True)\n",
    "pd.DataFrame(stats)"
   ]
  },
  {
   "cell_type": "code",
   "execution_count": null,
   "id": "a6e6ef69-e88b-4344-9e96-c3a7df199082",
   "metadata": {},
   "outputs": [],
   "source": []
  }
 ],
 "metadata": {
  "kernelspec": {
   "display_name": "Python 3 (ipykernel)",
   "language": "python",
   "name": "python3"
  },
  "language_info": {
   "codemirror_mode": {
    "name": "ipython",
    "version": 3
   },
   "file_extension": ".py",
   "mimetype": "text/x-python",
   "name": "python",
   "nbconvert_exporter": "python",
   "pygments_lexer": "ipython3",
   "version": "3.9.15"
  },
  "widgets": {
   "application/vnd.jupyter.widget-state+json": {
    "state": {
     "0adadc1febc74ee9b4ab3e76133e737a": {
      "model_module": "@jupyter-widgets/controls",
      "model_module_version": "2.0.0",
      "model_name": "IntSliderModel",
      "state": {
       "behavior": "drag-tap",
       "continuous_update": false,
       "description": "Slice",
       "layout": "IPY_MODEL_ac9d202e660945be89d26398b328c24e",
       "max": 9,
       "style": "IPY_MODEL_4a94fbc1376e4c7eb1bfa274edb34bd5",
       "value": 5
      }
     },
     "0f0d0c5a9fd4480b907733aea60a5f16": {
      "model_module": "@jupyter-widgets/base",
      "model_module_version": "2.0.0",
      "model_name": "LayoutModel",
      "state": {}
     },
     "39deade014134de8b8194c02b154bc0d": {
      "model_module": "@jupyter-widgets/controls",
      "model_module_version": "2.0.0",
      "model_name": "IntSliderModel",
      "state": {
       "behavior": "drag-tap",
       "continuous_update": false,
       "description": "Curtain",
       "layout": "IPY_MODEL_44696c771d3941d19a68f5cbb900af36",
       "max": 1200,
       "style": "IPY_MODEL_60d2361f0372476a833fc7e657d1696f",
       "value": 600
      }
     },
     "42868ddc79f1405188e2b1b60a0848e4": {
      "model_module": "@jupyter-widgets/base",
      "model_module_version": "2.0.0",
      "model_name": "LayoutModel",
      "state": {}
     },
     "44696c771d3941d19a68f5cbb900af36": {
      "model_module": "@jupyter-widgets/base",
      "model_module_version": "2.0.0",
      "model_name": "LayoutModel",
      "state": {}
     },
     "4a94fbc1376e4c7eb1bfa274edb34bd5": {
      "model_module": "@jupyter-widgets/controls",
      "model_module_version": "2.0.0",
      "model_name": "SliderStyleModel",
      "state": {
       "description_width": ""
      }
     },
     "4bc226c1da7a407bb18f172f7b56fdef": {
      "model_module": "@jupyter-widgets/base",
      "model_module_version": "2.0.0",
      "model_name": "LayoutModel",
      "state": {}
     },
     "57c3717f3cdf4e03a63fbd01277ab6e3": {
      "model_module": "@jupyter-widgets/controls",
      "model_module_version": "2.0.0",
      "model_name": "HBoxModel",
      "state": {
       "children": [
        "IPY_MODEL_61a83da238434cf098d186a1b2854624"
       ],
       "layout": "IPY_MODEL_4bc226c1da7a407bb18f172f7b56fdef"
      }
     },
     "60d2361f0372476a833fc7e657d1696f": {
      "model_module": "@jupyter-widgets/controls",
      "model_module_version": "2.0.0",
      "model_name": "SliderStyleModel",
      "state": {
       "description_width": ""
      }
     },
     "61a83da238434cf098d186a1b2854624": {
      "model_module": "@jupyter-widgets/controls",
      "model_module_version": "2.0.0",
      "model_name": "VBoxModel",
      "state": {
       "children": [
        "IPY_MODEL_752db9f524dd451abd38e94bc106a6b2"
       ],
       "layout": "IPY_MODEL_42868ddc79f1405188e2b1b60a0848e4"
      }
     },
     "752db9f524dd451abd38e94bc106a6b2": {
      "model_module": "ipycanvas",
      "model_module_version": "^0.13",
      "model_name": "CanvasModel",
      "state": {
       "_canvas_manager": "IPY_MODEL_914574f33ece475b84f5a2b25596480f",
       "_model_module_version": "^0.13",
       "_view_module_version": "^0.13",
       "height": 360,
       "layout": "IPY_MODEL_0f0d0c5a9fd4480b907733aea60a5f16",
       "width": 360
      }
     },
     "914574f33ece475b84f5a2b25596480f": {
      "model_module": "ipycanvas",
      "model_module_version": "^0.13",
      "model_name": "CanvasManagerModel",
      "state": {
       "_model_module_version": "^0.13",
       "_view_module": null,
       "_view_module_version": ""
      }
     },
     "ac9d202e660945be89d26398b328c24e": {
      "model_module": "@jupyter-widgets/base",
      "model_module_version": "2.0.0",
      "model_name": "LayoutModel",
      "state": {}
     },
     "b1199bc3403c419bb809a0d9d76fb5c0": {
      "model_module": "@jupyter-widgets/base",
      "model_module_version": "2.0.0",
      "model_name": "LayoutModel",
      "state": {}
     },
     "e1066e7a30914eeda84cde1dad1b0e9e": {
      "model_module": "@jupyter-widgets/controls",
      "model_module_version": "2.0.0",
      "model_name": "VBoxModel",
      "state": {
       "children": [
        "IPY_MODEL_57c3717f3cdf4e03a63fbd01277ab6e3",
        "IPY_MODEL_0adadc1febc74ee9b4ab3e76133e737a",
        "IPY_MODEL_39deade014134de8b8194c02b154bc0d"
       ],
       "layout": "IPY_MODEL_b1199bc3403c419bb809a0d9d76fb5c0"
      }
     }
    },
    "version_major": 2,
    "version_minor": 0
   }
  }
 },
 "nbformat": 4,
 "nbformat_minor": 5
}

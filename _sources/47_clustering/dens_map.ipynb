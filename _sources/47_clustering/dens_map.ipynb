{
 "cells": [
  {
   "cell_type": "markdown",
   "id": "ec5edcd0-dca7-441b-9c35-9b369cda4609",
   "metadata": {},
   "source": [
    "# densMAP\n",
    "The densMAP is a dimensionality reduction technique adapted from the UMAP explained in the section before. The densMAP has the advantage that it to some degree preserves the density of the data points while creating the manifold. "
   ]
  },
  {
   "cell_type": "code",
   "execution_count": null,
   "id": "6d525eba-821a-4d46-ac74-63bedc456969",
   "metadata": {},
   "outputs": [],
   "source": []
  }
 ],
 "metadata": {
  "kernelspec": {
   "display_name": "Python 3 (ipykernel)",
   "language": "python",
   "name": "python3"
  },
  "language_info": {
   "codemirror_mode": {
    "name": "ipython",
    "version": 3
   },
   "file_extension": ".py",
   "mimetype": "text/x-python",
   "name": "python",
   "nbconvert_exporter": "python",
   "pygments_lexer": "ipython3",
   "version": "3.9.13"
  }
 },
 "nbformat": 4,
 "nbformat_minor": 5
}
